{
 "cells": [
  {
   "cell_type": "code",
   "execution_count": null,
   "id": "fc5e6a65-d4b1-47fc-a110-db0686b4d912",
   "metadata": {},
   "outputs": [],
   "source": [
    "from utils.full_experiments import reddit_timelines, talklife_timelines"
   ]
  },
  {
   "cell_type": "markdown",
   "id": "bd89865d-d38a-4804-a7bf-f1f30df33811",
   "metadata": {},
   "source": [
    "# Introduction\n",
    "\n",
    "This notebook reproduces the results of our paper, [\"Creation and evaluation of timelines for longitudinal user posts\"](https://aclanthology.org/2023.eacl-main.274/), published at EACL 2023."
   ]
  },
  {
   "cell_type": "markdown",
   "id": "a93e7790-8e64-42d5-8d00-1afcf4db4510",
   "metadata": {},
   "source": [
    "# Graphical Data"
   ]
  },
  {
   "cell_type": "markdown",
   "id": "4c28a072-8948-410c-bd1b-1ba306917b95",
   "metadata": {},
   "source": [
    "## TalkLife"
   ]
  },
  {
   "cell_type": "code",
   "execution_count": null,
   "id": "d121daf7-172d-453b-b7d2-8b33ed6a34e2",
   "metadata": {},
   "outputs": [],
   "source": [
    "# TalkLife\n",
    "TalklifeTimelinesExperiments = talklife_timelines.TalklifeTimelinesExperiments()\n",
    "talklife_results = TalklifeTimelinesExperiments.full_experiment()"
   ]
  },
  {
   "cell_type": "markdown",
   "id": "0f9a8dd3-e7e9-429c-8477-7b6aa0640c91",
   "metadata": {},
   "source": [
    "## Reddit"
   ]
  },
  {
   "cell_type": "code",
   "execution_count": null,
   "id": "ad48e75f-8c5f-4d31-af0e-9eebc9c12f78",
   "metadata": {},
   "outputs": [],
   "source": [
    "# Reddit\n",
    "RedditTimelinesExperiments = reddit_timelines.RedditTimelinesExperiments()\n",
    "reddit_results = RedditTimelinesExperiments.full_experiment()"
   ]
  },
  {
   "cell_type": "markdown",
   "id": "3ff8816f-a442-4122-88e7-23661250084d",
   "metadata": {},
   "source": [
    "# Tabular Data\n",
    "\n",
    "$\\tau = 5$"
   ]
  },
  {
   "cell_type": "markdown",
   "id": "a73e4339-db7b-40ae-9517-0bfda01d5ca1",
   "metadata": {},
   "source": [
    "## TalkLife"
   ]
  },
  {
   "cell_type": "code",
   "execution_count": null,
   "id": "826070b1-6898-4596-be02-845a14908de2",
   "metadata": {},
   "outputs": [],
   "source": [
    "# Verbose output\n",
    "talklife_results"
   ]
  },
  {
   "cell_type": "markdown",
   "id": "f5533911-1f21-42b0-96bc-3f223b15c5a1",
   "metadata": {},
   "source": [
    "## Reddit"
   ]
  },
  {
   "cell_type": "code",
   "execution_count": null,
   "id": "a463d842-cf02-40a6-a228-ca408bfad8a2",
   "metadata": {},
   "outputs": [],
   "source": [
    "# Verbose output\n",
    "reddit_results"
   ]
  }
 ],
 "metadata": {
  "kernelspec": {
   "display_name": "Python 3 (ipykernel)",
   "language": "python",
   "name": "python3"
  },
  "language_info": {
   "codemirror_mode": {
    "name": "ipython",
    "version": 3
   },
   "file_extension": ".py",
   "mimetype": "text/x-python",
   "name": "python",
   "nbconvert_exporter": "python",
   "pygments_lexer": "ipython3",
   "version": "3.8.13"
  }
 },
 "nbformat": 4,
 "nbformat_minor": 5
}
